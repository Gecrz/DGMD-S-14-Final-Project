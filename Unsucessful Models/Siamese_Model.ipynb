{
  "cells": [
    {
      "cell_type": "code",
      "execution_count": null,
      "metadata": {
        "colab": {
          "base_uri": "https://localhost:8080/"
        },
        "id": "T2nF4TusvEqk",
        "outputId": "b23ef5fb-3ce6-4e3d-e5c0-8e2686e289b0"
      },
      "outputs": [
        {
          "output_type": "stream",
          "name": "stderr",
          "text": [
            "100%|██████████| 4.27G/4.27G [06:14<00:00, 11.4MB/s]"
          ]
        },
        {
          "output_type": "stream",
          "name": "stdout",
          "text": [
            "File downloaded successfully.\n"
          ]
        },
        {
          "output_type": "stream",
          "name": "stderr",
          "text": [
            "\n"
          ]
        }
      ],
      "source": [
        "#download the data using the below code into your local setup\n",
        "\n",
        "import requests\n",
        "from tqdm import tqdm\n",
        "\n",
        "url = 'http://www.inf.ufpr.br/vri/databases/BreaKHis_v1.tar.gz'\n",
        "file_path = 'BreaKHis_v1.tar.gz'\n",
        "\n",
        "response = requests.get(url, stream=True)\n",
        "\n",
        "if response.status_code == 200:\n",
        "\n",
        "\n",
        "  total_size = int(response.headers.get('content-length', 0))\n",
        "  progress_bar = tqdm(total=total_size, unit='B', unit_scale=True)\n",
        "\n",
        "  with open(file_path, 'wb') as file:\n",
        "      for chunk in response.iter_content(chunk_size=1024):\n",
        "          if chunk:\n",
        "              file.write(chunk)\n",
        "              progress_bar.update(len(chunk))\n",
        "\n",
        "  progress_bar.close()\n",
        "  print('File downloaded successfully.')\n",
        "else:\n",
        "\n",
        "  print('Failed to download the file.')\n"
      ]
    },
    {
      "cell_type": "code",
      "execution_count": null,
      "metadata": {
        "id": "q_sWCdBDpfGw"
      },
      "outputs": [],
      "source": [
        "# get all the 400x png files into a folder\n",
        "import tarfile\n",
        "import os\n",
        "import shutil\n",
        "import io\n",
        "\n",
        "# Define the tar file\n",
        "tar_file_path = 'BreaKHis_v1.tar.gz'\n",
        "\n",
        "# Define the directory to store the extracted files\n",
        "output_dir = 'extracted_images_400x'\n",
        "os.makedirs(output_dir, exist_ok=True)\n",
        "\n",
        "# Open the tar file\n",
        "tar = tarfile.open(tar_file_path)\n",
        "\n",
        "# Iterate over each member in the tar file\n",
        "for member in tar.getmembers():\n",
        "    if '400X' in member.name and member.name.endswith('.png'):\n",
        "        # Use extractfile() to get a file-like object for the file data\n",
        "        file_data = tar.extractfile(member)\n",
        "\n",
        "        if file_data is not None:\n",
        "            # Get the base filename (without directories)\n",
        "            base_filename = os.path.basename(member.name)\n",
        "            # Define the target file path in the output_dir\n",
        "            target_path = os.path.join(output_dir, base_filename)\n",
        "\n",
        "            # Write the file data to the new file\n",
        "            with open(target_path, 'wb') as f:\n",
        "                shutil.copyfileobj(file_data, f)\n",
        "\n",
        "# Close the tar file\n",
        "tar.close()\n"
      ]
    },
    {
      "cell_type": "code",
      "execution_count": null,
      "metadata": {
        "colab": {
          "base_uri": "https://localhost:8080/"
        },
        "id": "8IX3AIu3rOEr",
        "outputId": "b1d36f87-1307-436f-cf2d-f6d33dd28abb"
      },
      "outputs": [
        {
          "output_type": "stream",
          "name": "stdout",
          "text": [
            "SOB_B_A-14-22549AB-400-001.png\n",
            "SOB_B_A-14-22549AB-400-002.png\n",
            "SOB_B_A-14-22549AB-400-003.png\n",
            "SOB_B_A-14-22549AB-400-004.png\n",
            "SOB_B_A-14-22549AB-400-005.png\n",
            "SOB_B_A-14-22549AB-400-006.png\n",
            "SOB_B_A-14-22549AB-400-007.png\n",
            "SOB_B_A-14-22549AB-400-008.png\n",
            "SOB_B_A-14-22549AB-400-009.png\n",
            "SOB_B_A-14-22549AB-400-010.png\n",
            "SOB_B_A-14-22549AB-400-011.png\n",
            "SOB_B_A-14-22549AB-400-012.png\n",
            "SOB_B_A-14-22549AB-400-013.png\n",
            "SOB_B_A-14-22549AB-400-014.png\n",
            "SOB_B_A-14-22549AB-400-015.png\n",
            "SOB_B_A-14-22549AB-400-016.png\n",
            "SOB_B_A-14-22549AB-400-017.png\n",
            "SOB_B_A-14-22549AB-400-018.png\n",
            "SOB_B_A-14-22549AB-400-019.png\n",
            "SOB_B_A-14-22549AB-400-020.png\n"
          ]
        }
      ],
      "source": [
        "!ls extracted_images_400x | head -n 20\n"
      ]
    },
    {
      "cell_type": "code",
      "execution_count": null,
      "metadata": {
        "colab": {
          "base_uri": "https://localhost:8080/",
          "height": 424
        },
        "id": "C8iopb41n1gE",
        "outputId": "2d82213b-590f-4175-d28b-4f1157b1ff21"
      },
      "outputs": [
        {
          "output_type": "execute_result",
          "data": {
            "text/plain": [
              "                             filename type patient_ID\n",
              "0       SOB_M_DC-14-14946-400-020.png    M      14946\n",
              "1     SOB_B_PT-14-21998AB-400-012.png    B    21998AB\n",
              "2        SOB_B_F-14-25197-400-042.png    B      25197\n",
              "3      SOB_B_A-14-29960CD-400-011.png    B    29960CD\n",
              "4       SOB_M_DC-14-10926-400-009.png    M      10926\n",
              "...                               ...  ...        ...\n",
              "1815    SOB_M_DC-14-18650-400-011.png    M      18650\n",
              "1816    SOB_B_PT-14-22704-400-010.png    B      22704\n",
              "1817     SOB_M_DC-14-9461-400-015.png    M       9461\n",
              "1818    SOB_M_LC-14-15570-400-031.png    M      15570\n",
              "1819     SOB_M_DC-14-2523-400-023.png    M       2523\n",
              "\n",
              "[1820 rows x 3 columns]"
            ],
            "text/html": [
              "\n",
              "\n",
              "  <div id=\"df-3a918af6-9234-4fe6-b47c-789442aea101\">\n",
              "    <div class=\"colab-df-container\">\n",
              "      <div>\n",
              "<style scoped>\n",
              "    .dataframe tbody tr th:only-of-type {\n",
              "        vertical-align: middle;\n",
              "    }\n",
              "\n",
              "    .dataframe tbody tr th {\n",
              "        vertical-align: top;\n",
              "    }\n",
              "\n",
              "    .dataframe thead th {\n",
              "        text-align: right;\n",
              "    }\n",
              "</style>\n",
              "<table border=\"1\" class=\"dataframe\">\n",
              "  <thead>\n",
              "    <tr style=\"text-align: right;\">\n",
              "      <th></th>\n",
              "      <th>filename</th>\n",
              "      <th>type</th>\n",
              "      <th>patient_ID</th>\n",
              "    </tr>\n",
              "  </thead>\n",
              "  <tbody>\n",
              "    <tr>\n",
              "      <th>0</th>\n",
              "      <td>SOB_M_DC-14-14946-400-020.png</td>\n",
              "      <td>M</td>\n",
              "      <td>14946</td>\n",
              "    </tr>\n",
              "    <tr>\n",
              "      <th>1</th>\n",
              "      <td>SOB_B_PT-14-21998AB-400-012.png</td>\n",
              "      <td>B</td>\n",
              "      <td>21998AB</td>\n",
              "    </tr>\n",
              "    <tr>\n",
              "      <th>2</th>\n",
              "      <td>SOB_B_F-14-25197-400-042.png</td>\n",
              "      <td>B</td>\n",
              "      <td>25197</td>\n",
              "    </tr>\n",
              "    <tr>\n",
              "      <th>3</th>\n",
              "      <td>SOB_B_A-14-29960CD-400-011.png</td>\n",
              "      <td>B</td>\n",
              "      <td>29960CD</td>\n",
              "    </tr>\n",
              "    <tr>\n",
              "      <th>4</th>\n",
              "      <td>SOB_M_DC-14-10926-400-009.png</td>\n",
              "      <td>M</td>\n",
              "      <td>10926</td>\n",
              "    </tr>\n",
              "    <tr>\n",
              "      <th>...</th>\n",
              "      <td>...</td>\n",
              "      <td>...</td>\n",
              "      <td>...</td>\n",
              "    </tr>\n",
              "    <tr>\n",
              "      <th>1815</th>\n",
              "      <td>SOB_M_DC-14-18650-400-011.png</td>\n",
              "      <td>M</td>\n",
              "      <td>18650</td>\n",
              "    </tr>\n",
              "    <tr>\n",
              "      <th>1816</th>\n",
              "      <td>SOB_B_PT-14-22704-400-010.png</td>\n",
              "      <td>B</td>\n",
              "      <td>22704</td>\n",
              "    </tr>\n",
              "    <tr>\n",
              "      <th>1817</th>\n",
              "      <td>SOB_M_DC-14-9461-400-015.png</td>\n",
              "      <td>M</td>\n",
              "      <td>9461</td>\n",
              "    </tr>\n",
              "    <tr>\n",
              "      <th>1818</th>\n",
              "      <td>SOB_M_LC-14-15570-400-031.png</td>\n",
              "      <td>M</td>\n",
              "      <td>15570</td>\n",
              "    </tr>\n",
              "    <tr>\n",
              "      <th>1819</th>\n",
              "      <td>SOB_M_DC-14-2523-400-023.png</td>\n",
              "      <td>M</td>\n",
              "      <td>2523</td>\n",
              "    </tr>\n",
              "  </tbody>\n",
              "</table>\n",
              "<p>1820 rows × 3 columns</p>\n",
              "</div>\n",
              "      <button class=\"colab-df-convert\" onclick=\"convertToInteractive('df-3a918af6-9234-4fe6-b47c-789442aea101')\"\n",
              "              title=\"Convert this dataframe to an interactive table.\"\n",
              "              style=\"display:none;\">\n",
              "\n",
              "  <svg xmlns=\"http://www.w3.org/2000/svg\" height=\"24px\"viewBox=\"0 0 24 24\"\n",
              "       width=\"24px\">\n",
              "    <path d=\"M0 0h24v24H0V0z\" fill=\"none\"/>\n",
              "    <path d=\"M18.56 5.44l.94 2.06.94-2.06 2.06-.94-2.06-.94-.94-2.06-.94 2.06-2.06.94zm-11 1L8.5 8.5l.94-2.06 2.06-.94-2.06-.94L8.5 2.5l-.94 2.06-2.06.94zm10 10l.94 2.06.94-2.06 2.06-.94-2.06-.94-.94-2.06-.94 2.06-2.06.94z\"/><path d=\"M17.41 7.96l-1.37-1.37c-.4-.4-.92-.59-1.43-.59-.52 0-1.04.2-1.43.59L10.3 9.45l-7.72 7.72c-.78.78-.78 2.05 0 2.83L4 21.41c.39.39.9.59 1.41.59.51 0 1.02-.2 1.41-.59l7.78-7.78 2.81-2.81c.8-.78.8-2.07 0-2.86zM5.41 20L4 18.59l7.72-7.72 1.47 1.35L5.41 20z\"/>\n",
              "  </svg>\n",
              "      </button>\n",
              "\n",
              "\n",
              "\n",
              "    <div id=\"df-1b1a9fd5-cb26-4d88-823a-790dac62e938\">\n",
              "      <button class=\"colab-df-quickchart\" onclick=\"quickchart('df-1b1a9fd5-cb26-4d88-823a-790dac62e938')\"\n",
              "              title=\"Suggest charts.\"\n",
              "              style=\"display:none;\">\n",
              "\n",
              "<svg xmlns=\"http://www.w3.org/2000/svg\" height=\"24px\"viewBox=\"0 0 24 24\"\n",
              "     width=\"24px\">\n",
              "    <g>\n",
              "        <path d=\"M19 3H5c-1.1 0-2 .9-2 2v14c0 1.1.9 2 2 2h14c1.1 0 2-.9 2-2V5c0-1.1-.9-2-2-2zM9 17H7v-7h2v7zm4 0h-2V7h2v10zm4 0h-2v-4h2v4z\"/>\n",
              "    </g>\n",
              "</svg>\n",
              "      </button>\n",
              "    </div>\n",
              "\n",
              "<style>\n",
              "  .colab-df-quickchart {\n",
              "    background-color: #E8F0FE;\n",
              "    border: none;\n",
              "    border-radius: 50%;\n",
              "    cursor: pointer;\n",
              "    display: none;\n",
              "    fill: #1967D2;\n",
              "    height: 32px;\n",
              "    padding: 0 0 0 0;\n",
              "    width: 32px;\n",
              "  }\n",
              "\n",
              "  .colab-df-quickchart:hover {\n",
              "    background-color: #E2EBFA;\n",
              "    box-shadow: 0px 1px 2px rgba(60, 64, 67, 0.3), 0px 1px 3px 1px rgba(60, 64, 67, 0.15);\n",
              "    fill: #174EA6;\n",
              "  }\n",
              "\n",
              "  [theme=dark] .colab-df-quickchart {\n",
              "    background-color: #3B4455;\n",
              "    fill: #D2E3FC;\n",
              "  }\n",
              "\n",
              "  [theme=dark] .colab-df-quickchart:hover {\n",
              "    background-color: #434B5C;\n",
              "    box-shadow: 0px 1px 3px 1px rgba(0, 0, 0, 0.15);\n",
              "    filter: drop-shadow(0px 1px 2px rgba(0, 0, 0, 0.3));\n",
              "    fill: #FFFFFF;\n",
              "  }\n",
              "</style>\n",
              "\n",
              "    <script>\n",
              "      async function quickchart(key) {\n",
              "        const containerElement = document.querySelector('#' + key);\n",
              "        const charts = await google.colab.kernel.invokeFunction(\n",
              "            'suggestCharts', [key], {});\n",
              "      }\n",
              "    </script>\n",
              "\n",
              "      <script>\n",
              "\n",
              "function displayQuickchartButton(domScope) {\n",
              "  let quickchartButtonEl =\n",
              "    domScope.querySelector('#df-1b1a9fd5-cb26-4d88-823a-790dac62e938 button.colab-df-quickchart');\n",
              "  quickchartButtonEl.style.display =\n",
              "    google.colab.kernel.accessAllowed ? 'block' : 'none';\n",
              "}\n",
              "\n",
              "        displayQuickchartButton(document);\n",
              "      </script>\n",
              "      <style>\n",
              "    .colab-df-container {\n",
              "      display:flex;\n",
              "      flex-wrap:wrap;\n",
              "      gap: 12px;\n",
              "    }\n",
              "\n",
              "    .colab-df-convert {\n",
              "      background-color: #E8F0FE;\n",
              "      border: none;\n",
              "      border-radius: 50%;\n",
              "      cursor: pointer;\n",
              "      display: none;\n",
              "      fill: #1967D2;\n",
              "      height: 32px;\n",
              "      padding: 0 0 0 0;\n",
              "      width: 32px;\n",
              "    }\n",
              "\n",
              "    .colab-df-convert:hover {\n",
              "      background-color: #E2EBFA;\n",
              "      box-shadow: 0px 1px 2px rgba(60, 64, 67, 0.3), 0px 1px 3px 1px rgba(60, 64, 67, 0.15);\n",
              "      fill: #174EA6;\n",
              "    }\n",
              "\n",
              "    [theme=dark] .colab-df-convert {\n",
              "      background-color: #3B4455;\n",
              "      fill: #D2E3FC;\n",
              "    }\n",
              "\n",
              "    [theme=dark] .colab-df-convert:hover {\n",
              "      background-color: #434B5C;\n",
              "      box-shadow: 0px 1px 3px 1px rgba(0, 0, 0, 0.15);\n",
              "      filter: drop-shadow(0px 1px 2px rgba(0, 0, 0, 0.3));\n",
              "      fill: #FFFFFF;\n",
              "    }\n",
              "  </style>\n",
              "\n",
              "      <script>\n",
              "        const buttonEl =\n",
              "          document.querySelector('#df-3a918af6-9234-4fe6-b47c-789442aea101 button.colab-df-convert');\n",
              "        buttonEl.style.display =\n",
              "          google.colab.kernel.accessAllowed ? 'block' : 'none';\n",
              "\n",
              "        async function convertToInteractive(key) {\n",
              "          const element = document.querySelector('#df-3a918af6-9234-4fe6-b47c-789442aea101');\n",
              "          const dataTable =\n",
              "            await google.colab.kernel.invokeFunction('convertToInteractive',\n",
              "                                                     [key], {});\n",
              "          if (!dataTable) return;\n",
              "\n",
              "          const docLinkHtml = 'Like what you see? Visit the ' +\n",
              "            '<a target=\"_blank\" href=https://colab.research.google.com/notebooks/data_table.ipynb>data table notebook</a>'\n",
              "            + ' to learn more about interactive tables.';\n",
              "          element.innerHTML = '';\n",
              "          dataTable['output_type'] = 'display_data';\n",
              "          await google.colab.output.renderOutput(dataTable, element);\n",
              "          const docLink = document.createElement('div');\n",
              "          docLink.innerHTML = docLinkHtml;\n",
              "          element.appendChild(docLink);\n",
              "        }\n",
              "      </script>\n",
              "    </div>\n",
              "  </div>\n"
            ]
          },
          "metadata": {},
          "execution_count": 4
        }
      ],
      "source": [
        "#creating a dataframe that has the patient id, file path, type\n",
        "\n",
        "import os\n",
        "import pandas as pd\n",
        "\n",
        "# Define the directory where the files are stored\n",
        "directory = 'extracted_images_400x'\n",
        "\n",
        "# Get the list of file names\n",
        "filenames = os.listdir(directory)\n",
        "\n",
        "# Create a DataFrame from the file names\n",
        "df = pd.DataFrame(filenames, columns=['filename'])\n",
        "\n",
        "# Extract the type (M or B), patient ID and image ID from the filename\n",
        "df['type'] = df['filename'].str.split('_', expand=True)[1]\n",
        "df['patient_ID'] = df['filename'].str.split('-', expand=True)[2]\n",
        "\n",
        "# Display the DataFrame\n",
        "df\n"
      ]
    },
    {
      "cell_type": "code",
      "execution_count": null,
      "metadata": {
        "id": "uEd0hqsSryBf"
      },
      "outputs": [],
      "source": [
        "import numpy as np\n",
        "\n",
        "# Get a list of unique patient IDs for each type\n",
        "malignant_ids = df[df['type'] == 'M']['patient_ID'].unique()\n",
        "benign_ids = df[df['type'] == 'B']['patient_ID'].unique()\n",
        "\n",
        "# Function to split patient IDs into train, validation, and test\n",
        "def split_ids(ids):\n",
        "    np.random.shuffle(ids)\n",
        "    train_size = int(len(ids) * 0.8)\n",
        "    val_size = int(len(ids) * 0.1)\n",
        "    train_ids = ids[:train_size]\n",
        "    val_ids = ids[train_size:train_size + val_size]\n",
        "    test_ids = ids[train_size + val_size:]\n",
        "    return train_ids, val_ids, test_ids\n",
        "\n",
        "# Split patient IDs for each type\n",
        "train_m_ids, val_m_ids, test_m_ids = split_ids(malignant_ids)\n",
        "train_b_ids, val_b_ids, test_b_ids = split_ids(benign_ids)\n",
        "\n",
        "# Concatenate train, validation, and test patient IDs\n",
        "train_patient_ids = np.concatenate([train_m_ids, train_b_ids])\n",
        "val_patient_ids = np.concatenate([val_m_ids, val_b_ids])\n",
        "test_patient_ids = np.concatenate([test_m_ids, test_b_ids])\n",
        "\n",
        "# Get corresponding dataframes\n",
        "train_df = df[df['patient_ID'].isin(train_patient_ids)]\n",
        "val_df = df[df['patient_ID'].isin(val_patient_ids)]\n",
        "test_df = df[df['patient_ID'].isin(test_patient_ids)]\n"
      ]
    },
    {
      "cell_type": "code",
      "execution_count": null,
      "metadata": {
        "colab": {
          "base_uri": "https://localhost:8080/"
        },
        "id": "o3acTmCIsecB",
        "outputId": "195dd7ad-3b1a-48bd-9a1f-ad8fc0b6b164"
      },
      "outputs": [
        {
          "output_type": "stream",
          "name": "stdout",
          "text": [
            "file name is train_df\n",
            "filename 1451\n",
            "type 2\n",
            "patient_ID 64\n",
            "file name is val_df\n",
            "filename 148\n",
            "type 2\n",
            "patient_ID 7\n",
            "file name is test_df\n",
            "filename 221\n",
            "type 2\n",
            "patient_ID 10\n"
          ]
        }
      ],
      "source": [
        "print('file name is', 'train_df')\n",
        "for column in train_df.columns:\n",
        "    print(column, train_df[column].nunique())\n",
        "\n",
        "\n",
        "print('file name is', 'val_df')\n",
        "for column in val_df.columns:\n",
        "    print(column, val_df[column].nunique())\n",
        "\n",
        "\n",
        "print('file name is', 'test_df')\n",
        "for column in test_df.columns:\n",
        "    print(column, test_df[column].nunique())\n"
      ]
    },
    {
      "cell_type": "code",
      "execution_count": null,
      "metadata": {
        "colab": {
          "base_uri": "https://localhost:8080/"
        },
        "id": "9YDZDTrltyLG",
        "outputId": "3dfdbad1-991f-4864-f047-23de236d7376"
      },
      "outputs": [
        {
          "output_type": "stream",
          "name": "stdout",
          "text": [
            "Found 1161 validated image filenames belonging to 2 classes.\n",
            "Found 290 validated image filenames belonging to 2 classes.\n"
          ]
        }
      ],
      "source": [
        "from tensorflow.keras.applications import VGG16\n",
        "from tensorflow.keras.preprocessing.image import ImageDataGenerator\n",
        "from tensorflow.keras.models import Sequential\n",
        "from tensorflow.keras.layers import Dense, Flatten\n",
        "from tensorflow.keras.optimizers import Adam\n",
        "\n",
        "# Define image size and path\n",
        "img_size = (700, 460)\n",
        "batch_size = 32\n",
        "directory = 'extracted_images_400x'\n",
        "\n",
        "# Prepare data generators\n",
        "train_datagen = ImageDataGenerator(rescale=1./255, validation_split=0.2)  # assuming 80-20 split for train-val\n",
        "\n",
        "train_generator = train_datagen.flow_from_dataframe(\n",
        "    train_df,\n",
        "    directory=directory,\n",
        "    x_col='filename',\n",
        "    y_col='type',\n",
        "    target_size=img_size,\n",
        "    class_mode='binary',\n",
        "    batch_size=batch_size,\n",
        "    subset='training')\n",
        "\n",
        "val_generator = train_datagen.flow_from_dataframe(\n",
        "    train_df,\n",
        "    directory=directory,\n",
        "    x_col='filename',\n",
        "    y_col='type',\n",
        "    target_size=img_size,\n",
        "    class_mode='binary',\n",
        "    batch_size=batch_size,\n",
        "    subset='validation')\n",
        "\n",
        "# Load pre-trained VGG16 model\n",
        "# base_model = VGG16(input_shape=img_size + (3,), include_top=False, weights='imagenet')\n",
        "\n",
        "# Freeze the pre-trained model\n",
        "# for layer in base_model.layers:\n",
        "#    layer.trainable = False\n",
        "\n",
        "# Create a new model on top\n",
        "# model = Sequential([\n",
        "#    base_model,\n",
        "#    Flatten(),\n",
        " #   Dense(1, activation='sigmoid')\n",
        "#])\n",
        "\n",
        "# Compile the model\n",
        "# model.compile(optimizer=Adam(), loss='binary_crossentropy', metrics=['accuracy'])\n",
        "\n",
        "# Train the model\n",
        "# model.fit(train_generator, validation_data=val_generator, epochs=10)\n"
      ]
    },
    {
      "cell_type": "markdown",
      "source": [
        "## CNN *Baseline*"
      ],
      "metadata": {
        "id": "OnjI0tHGdkUg"
      }
    },
    {
      "cell_type": "code",
      "source": [
        "import tensorflow as tf\n",
        "from functools import partial\n",
        "from tensorflow.keras.preprocessing.image import ImageDataGenerator\n",
        "from tensorflow.keras.callbacks import EarlyStopping, LearningRateScheduler\n",
        "\n",
        "\n",
        "# Define the standard CNN model\n",
        "n_filters = 12  # Base number of convolutional filters\n",
        "\n",
        "def make_standard_classifier(n_outputs=1):\n",
        "    Conv2D = partial(tf.keras.layers.Conv2D, padding='same', activation='relu')\n",
        "    BatchNormalization = tf.keras.layers.BatchNormalization\n",
        "    Flatten = tf.keras.layers.Flatten\n",
        "    Dense = partial(tf.keras.layers.Dense, activation='relu')\n",
        "\n",
        "    model = tf.keras.Sequential([\n",
        "        Conv2D(filters=1*n_filters, kernel_size=5, strides=2),\n",
        "        BatchNormalization(),\n",
        "\n",
        "        Conv2D(filters=2*n_filters, kernel_size=5, strides=2),\n",
        "        BatchNormalization(),\n",
        "\n",
        "        Conv2D(filters=4*n_filters, kernel_size=3, strides=2),\n",
        "        BatchNormalization(),\n",
        "\n",
        "        Conv2D(filters=6*n_filters, kernel_size=3, strides=2),\n",
        "        BatchNormalization(),\n",
        "\n",
        "        Flatten(),\n",
        "        Dense(512),\n",
        "        Dense(n_outputs, activation='sigmoid')  # Sigmoid activation for binary classification\n",
        "    ])\n",
        "    return model\n"
      ],
      "metadata": {
        "id": "GXBsdiy6fcOM"
      },
      "execution_count": null,
      "outputs": []
    },
    {
      "cell_type": "code",
      "source": [
        "\n",
        "# Create the standard CNN model\n",
        "standard_classifier = make_standard_classifier()"
      ],
      "metadata": {
        "id": "7A0oOOClfthf"
      },
      "execution_count": null,
      "outputs": []
    },
    {
      "cell_type": "code",
      "source": [
        "\n",
        "# Compile the model\n",
        "standard_classifier.compile(optimizer='adam', loss='binary_crossentropy', metrics=['accuracy'])"
      ],
      "metadata": {
        "id": "mZXh7OWUfz7C"
      },
      "execution_count": null,
      "outputs": []
    },
    {
      "cell_type": "code",
      "source": [
        "\n",
        "# Define callbacks\n",
        "early_stop = EarlyStopping(patience=3)\n",
        "def lr_scheduler(epoch, lr):\n",
        "    if epoch < 5:\n",
        "        return lr\n",
        "    else:\n",
        "        return lr * 0.1\n",
        "lr_schedule = LearningRateScheduler(lr_scheduler)\n",
        "\n",
        "# Train the model\n",
        "standard_classifier.fit(train_generator, validation_data=val_generator, epochs=10, callbacks=[early_stop, lr_schedule])"
      ],
      "metadata": {
        "colab": {
          "base_uri": "https://localhost:8080/"
        },
        "id": "w0QuRvdRf3jO",
        "outputId": "b922c684-aae5-4e54-e411-4d7d5a7a6c57"
      },
      "execution_count": null,
      "outputs": [
        {
          "output_type": "stream",
          "name": "stdout",
          "text": [
            "Epoch 1/10\n",
            "36/36 [==============================] - 134s 4s/step - loss: 2.2551 - accuracy: 0.6690 - val_loss: 1.6542 - val_accuracy: 0.3592 - lr: 0.0010\n",
            "Epoch 2/10\n",
            "36/36 [==============================] - 135s 4s/step - loss: 0.3593 - accuracy: 0.8046 - val_loss: 2.1322 - val_accuracy: 0.3592 - lr: 0.0010\n",
            "Epoch 3/10\n",
            "36/36 [==============================] - 130s 4s/step - loss: 0.1974 - accuracy: 0.9049 - val_loss: 3.1268 - val_accuracy: 0.3592 - lr: 0.0010\n",
            "Epoch 4/10\n",
            "36/36 [==============================] - 154s 4s/step - loss: 0.0950 - accuracy: 0.9692 - val_loss: 1.4144 - val_accuracy: 0.3873 - lr: 0.0010\n",
            "Epoch 5/10\n",
            "36/36 [==============================] - 130s 4s/step - loss: 0.0495 - accuracy: 0.9842 - val_loss: 1.0686 - val_accuracy: 0.4683 - lr: 0.0010\n",
            "Epoch 6/10\n",
            "36/36 [==============================] - 142s 4s/step - loss: 0.0344 - accuracy: 0.9965 - val_loss: 0.9202 - val_accuracy: 0.5176 - lr: 1.0000e-04\n",
            "Epoch 7/10\n",
            "36/36 [==============================] - 130s 4s/step - loss: 0.0117 - accuracy: 1.0000 - val_loss: 0.8544 - val_accuracy: 0.5915 - lr: 1.0000e-05\n",
            "Epoch 8/10\n",
            "36/36 [==============================] - 148s 4s/step - loss: 0.0156 - accuracy: 0.9982 - val_loss: 0.8664 - val_accuracy: 0.6162 - lr: 1.0000e-06\n",
            "Epoch 9/10\n",
            "36/36 [==============================] - 132s 4s/step - loss: 0.0177 - accuracy: 0.9956 - val_loss: 0.8577 - val_accuracy: 0.6127 - lr: 1.0000e-07\n",
            "Epoch 10/10\n",
            "36/36 [==============================] - 149s 4s/step - loss: 0.0144 - accuracy: 0.9991 - val_loss: 0.8101 - val_accuracy: 0.6303 - lr: 1.0000e-08\n"
          ]
        },
        {
          "output_type": "execute_result",
          "data": {
            "text/plain": [
              "<keras.callbacks.History at 0x7bcee82daf20>"
            ]
          },
          "metadata": {},
          "execution_count": 11
        }
      ]
    },
    {
      "cell_type": "markdown",
      "source": [
        "## MobileNetV2 Transfer Learning"
      ],
      "metadata": {
        "id": "9Vfohn9JdqYi"
      }
    },
    {
      "cell_type": "code",
      "source": [
        "# importing the libraries\n",
        "from typing import List, Set, Dict, Tuple, Optional\n",
        "from PIL import Image\n",
        "import os\n",
        "import pathlib\n",
        "import numpy as np\n",
        "from PIL import Image\n",
        "import matplotlib.pyplot as plt\n",
        "import tensorflow as tf\n",
        "import tensorflow_hub as hub\n",
        "\n",
        "# get the pre-trained model and freeze the weights\n",
        "base_model = tf.keras.applications.MobileNetV2(input_shape=(700, 460, 3),\n",
        "                                               include_top=False,\n",
        "                                               weights='imagenet')\n",
        "base_model.trainable = False\n",
        "\n",
        "# define our Pre-Trained Neural Network Model\n",
        "transfer_model = tf.keras.Sequential([\n",
        "    tf.keras.layers.Rescaling(1./255),\n",
        "    base_model,\n",
        "    tf.keras.layers.GlobalAveragePooling2D(),\n",
        "    tf.keras.layers.Dense(128, activation='relu'),\n",
        "    tf.keras.layers.Dropout(0.4),\n",
        "    tf.keras.layers.Dense(64, activation='relu'),\n",
        "    tf.keras.layers.Dropout(0.4),\n",
        "    tf.keras.layers.Dense(5),\n",
        "])"
      ],
      "metadata": {
        "id": "NChuY_hJf6k7",
        "colab": {
          "base_uri": "https://localhost:8080/"
        },
        "outputId": "80de08ab-2234-4bfb-afc8-b2f357c05c05"
      },
      "execution_count": null,
      "outputs": [
        {
          "output_type": "stream",
          "name": "stderr",
          "text": [
            "WARNING:tensorflow:`input_shape` is undefined or non-square, or `rows` is not in [96, 128, 160, 192, 224]. Weights for input shape (224, 224) will be loaded as the default.\n"
          ]
        }
      ]
    },
    {
      "cell_type": "code",
      "source": [
        "#@title Run to Compile & Finetune the Pre-Trained Model (val_acc didn't change)\n",
        "if __name__ == \"__main__\":\n",
        "    tf.random.set_seed(17)\n",
        "\n",
        "    # compile model\n",
        "    transfer_model.compile(optimizer='adam',\n",
        "                      loss=tf.keras.losses.SparseCategoricalCrossentropy(from_logits=True),\n",
        "                      metrics=['accuracy'])\n",
        "    # train model\n",
        "    EPOCH = 15\n",
        "    transfer_history = transfer_model.fit(train_generator, epochs=EPOCH,\n",
        "                    validation_data=val_generator)\n",
        "\n",
        "    # visualize the training history and get the performance\n",
        "    plt.plot(transfer_history.history['accuracy'], label='train_accuracy')\n",
        "    plt.plot(transfer_history.history['val_accuracy'], label = 'val_accuracy')\n",
        "    plt.xlabel('Epoch')\n",
        "    plt.ylabel('Accuracy')\n",
        "    plt.ylim([0, 1])\n",
        "    plt.title(\"Transfer Learning Training\")\n",
        "    plt.legend(loc='lower right')"
      ],
      "metadata": {
        "colab": {
          "base_uri": "https://localhost:8080/",
          "height": 1000
        },
        "id": "T3OWbMF5F1XU",
        "outputId": "19b54dd4-c498-4d0c-b4cf-82bbc5fd0968"
      },
      "execution_count": null,
      "outputs": [
        {
          "output_type": "stream",
          "name": "stdout",
          "text": [
            "Epoch 1/15\n",
            "37/37 [==============================] - 167s 4s/step - loss: 0.8942 - accuracy: 0.5711 - val_loss: 0.6536 - val_accuracy: 0.6517\n",
            "Epoch 2/15\n",
            "37/37 [==============================] - 158s 4s/step - loss: 0.7347 - accuracy: 0.6115 - val_loss: 0.6524 - val_accuracy: 0.6517\n",
            "Epoch 3/15\n",
            "37/37 [==============================] - 162s 4s/step - loss: 0.6905 - accuracy: 0.6391 - val_loss: 0.6512 - val_accuracy: 0.6517\n",
            "Epoch 4/15\n",
            "37/37 [==============================] - 194s 5s/step - loss: 0.6857 - accuracy: 0.6408 - val_loss: 0.6817 - val_accuracy: 0.6517\n",
            "Epoch 5/15\n",
            "37/37 [==============================] - 172s 5s/step - loss: 0.6840 - accuracy: 0.6434 - val_loss: 0.6674 - val_accuracy: 0.6517\n",
            "Epoch 6/15\n",
            "37/37 [==============================] - 163s 4s/step - loss: 0.6771 - accuracy: 0.6253 - val_loss: 0.6510 - val_accuracy: 0.6517\n",
            "Epoch 7/15\n",
            "37/37 [==============================] - 166s 4s/step - loss: 0.6656 - accuracy: 0.6546 - val_loss: 0.6548 - val_accuracy: 0.6517\n",
            "Epoch 8/15\n",
            "37/37 [==============================] - 166s 4s/step - loss: 0.6614 - accuracy: 0.6460 - val_loss: 0.6466 - val_accuracy: 0.6517\n",
            "Epoch 9/15\n",
            "37/37 [==============================] - 163s 4s/step - loss: 0.6519 - accuracy: 0.6589 - val_loss: 0.6608 - val_accuracy: 0.6517\n",
            "Epoch 10/15\n",
            "37/37 [==============================] - 161s 4s/step - loss: 0.6605 - accuracy: 0.6624 - val_loss: 0.6506 - val_accuracy: 0.6517\n",
            "Epoch 11/15\n",
            "37/37 [==============================] - 173s 5s/step - loss: 0.6496 - accuracy: 0.6624 - val_loss: 0.6522 - val_accuracy: 0.6517\n",
            "Epoch 12/15\n",
            "37/37 [==============================] - 160s 4s/step - loss: 0.6570 - accuracy: 0.6598 - val_loss: 0.6465 - val_accuracy: 0.6517\n",
            "Epoch 13/15\n",
            "37/37 [==============================] - 161s 4s/step - loss: 0.6525 - accuracy: 0.6641 - val_loss: 0.6472 - val_accuracy: 0.6517\n",
            "Epoch 14/15\n",
            "37/37 [==============================] - 169s 5s/step - loss: 0.6520 - accuracy: 0.6649 - val_loss: 0.6489 - val_accuracy: 0.6517\n",
            "Epoch 15/15\n",
            "37/37 [==============================] - 169s 5s/step - loss: 0.6560 - accuracy: 0.6675 - val_loss: 0.6474 - val_accuracy: 0.6517\n"
          ]
        },
        {
          "output_type": "display_data",
          "data": {
            "text/plain": [
              "<Figure size 640x480 with 1 Axes>"
            ],
            "image/png": "[encoded data removed]"
          },
          "metadata": {}
        }
      ]
    },
    {
      "cell_type": "markdown",
      "source": [
        "## Siamese Model Demo 1 (overfitting)"
      ],
      "metadata": {
        "id": "6CCMoeAT0DqY"
      }
    },
    {
      "cell_type": "code",
      "source": [
        "# importing the libraries\n",
        "from typing import List, Set, Dict, Tuple, Optional\n",
        "from PIL import Image\n",
        "import os\n",
        "import pathlib\n",
        "import numpy as np\n",
        "from PIL import Image\n",
        "import matplotlib.pyplot as plt\n",
        "import tensorflow as tf\n",
        "import tensorflow_hub as hub\n",
        "from tensorflow.keras.layers import Input, Concatenate, GlobalAveragePooling2D, Dense\n",
        "from tensorflow.keras.applications import MobileNetV2\n",
        "from tensorflow.keras.models import Model\n",
        "\n",
        "def create_siamese_model():\n",
        "    base_model = tf.keras.applications.MobileNetV2(input_shape=img_size + (3,), include_top=False, weights='imagenet')\n",
        "    base_model.trainable = False\n",
        "\n",
        "    input_a = Input(shape=img_size + (3,))\n",
        "    input_b = Input(shape=img_size + (3,))\n",
        "\n",
        "    processed_a = base_model(input_a)\n",
        "    processed_b = base_model(input_b)\n",
        "\n",
        "    # concatenate the output of two base models\n",
        "    concatenated = Concatenate()([GlobalAveragePooling2D()(processed_a), GlobalAveragePooling2D()(processed_b)])\n",
        "\n",
        "    # add more layers for final prediction\n",
        "    x = Dense(128, activation='relu')(concatenated)\n",
        "    x = Dense(64, activation='relu')(x)\n",
        "    output = Dense(1, activation='sigmoid')(x)\n",
        "\n",
        "    model = Model(inputs=[input_a, input_b], outputs=output)\n",
        "\n",
        "    return model\n",
        "\n",
        "siamese_model = create_siamese_model()"
      ],
      "metadata": {
        "colab": {
          "base_uri": "https://localhost:8080/"
        },
        "id": "GtOK86R-0HlO",
        "outputId": "2e957192-d811-4767-ab95-442c5f4b46f8"
      },
      "execution_count": null,
      "outputs": [
        {
          "output_type": "stream",
          "name": "stderr",
          "text": [
            "WARNING:tensorflow:`input_shape` is undefined or non-square, or `rows` is not in [96, 128, 160, 192, 224]. Weights for input shape (224, 224) will be loaded as the default.\n"
          ]
        }
      ]
    },
    {
      "cell_type": "code",
      "source": [
        "#@title Run to Compile & Finetune the Pre-Trained Model\n",
        "if __name__ == \"__main__\":\n",
        "    tf.random.set_seed(17)\n",
        "\n",
        "    # compile model\n",
        "    siamese_model.compile(optimizer='adam', loss='binary_crossentropy', metrics=['accuracy'])\n",
        "\n",
        "    # train model\n",
        "    EPOCH = 15\n",
        "    transfer_history = siamese_model.fit(\n",
        "    [train_generator.next()[0], train_generator.next()[0]],  # provide two inputs (anchor and positive)\n",
        "     train_generator.next()[1],\n",
        "     validation_data=(\n",
        "        [val_generator.next()[0], val_generator.next()[0]],\n",
        "        val_generator.next()[1]\n",
        "    ),\n",
        "    epochs=EPOCH\n",
        ")\n",
        "\n",
        "    # visualize the training history and get the performance\n",
        "    plt.plot(transfer_history.history['accuracy'], label='train_accuracy')\n",
        "    plt.plot(transfer_history.history['val_accuracy'], label = 'val_accuracy')\n",
        "    plt.xlabel('Epoch')\n",
        "    plt.ylabel('Accuracy')\n",
        "    plt.ylim([0, 1])\n",
        "    plt.title(\"Transfer Learning Training\")\n",
        "    plt.legend(loc='lower right')"
      ],
      "metadata": {
        "colab": {
          "base_uri": "https://localhost:8080/",
          "height": 1000
        },
        "id": "Tj6zDzPyw4XM",
        "outputId": "53feb6e2-035c-4727-ef60-26f8d8cb25f2"
      },
      "execution_count": null,
      "outputs": [
        {
          "output_type": "stream",
          "name": "stdout",
          "text": [
            "Epoch 1/15\n",
            "1/1 [==============================] - 19s 19s/step - loss: 0.7117 - accuracy: 0.4062 - val_loss: 0.6784 - val_accuracy: 0.5938\n",
            "Epoch 2/15\n",
            "1/1 [==============================] - 12s 12s/step - loss: 0.5867 - accuracy: 0.5938 - val_loss: 0.9119 - val_accuracy: 0.3750\n",
            "Epoch 3/15\n",
            "1/1 [==============================] - 28s 28s/step - loss: 0.5947 - accuracy: 0.5625 - val_loss: 0.7248 - val_accuracy: 0.5000\n",
            "Epoch 4/15\n",
            "1/1 [==============================] - 17s 17s/step - loss: 0.4228 - accuracy: 0.9062 - val_loss: 0.6475 - val_accuracy: 0.6562\n",
            "Epoch 5/15\n",
            "1/1 [==============================] - 12s 12s/step - loss: 0.3738 - accuracy: 0.9062 - val_loss: 0.6714 - val_accuracy: 0.5625\n",
            "Epoch 6/15\n",
            "1/1 [==============================] - 12s 12s/step - loss: 0.3305 - accuracy: 0.9375 - val_loss: 0.7191 - val_accuracy: 0.5938\n",
            "Epoch 7/15\n",
            "1/1 [==============================] - 12s 12s/step - loss: 0.2538 - accuracy: 0.9062 - val_loss: 0.8754 - val_accuracy: 0.5312\n",
            "Epoch 8/15\n",
            "1/1 [==============================] - 12s 12s/step - loss: 0.2422 - accuracy: 0.9375 - val_loss: 0.8436 - val_accuracy: 0.5938\n",
            "Epoch 9/15\n",
            "1/1 [==============================] - 12s 12s/step - loss: 0.1907 - accuracy: 0.9688 - val_loss: 0.7660 - val_accuracy: 0.5938\n",
            "Epoch 10/15\n",
            "1/1 [==============================] - 12s 12s/step - loss: 0.1573 - accuracy: 0.9688 - val_loss: 0.7713 - val_accuracy: 0.5938\n",
            "Epoch 11/15\n",
            "1/1 [==============================] - 12s 12s/step - loss: 0.1352 - accuracy: 1.0000 - val_loss: 0.8301 - val_accuracy: 0.6250\n",
            "Epoch 12/15\n",
            "1/1 [==============================] - 12s 12s/step - loss: 0.1007 - accuracy: 1.0000 - val_loss: 0.9475 - val_accuracy: 0.5625\n",
            "Epoch 13/15\n",
            "1/1 [==============================] - 12s 12s/step - loss: 0.0828 - accuracy: 1.0000 - val_loss: 1.0337 - val_accuracy: 0.5312\n",
            "Epoch 14/15\n",
            "1/1 [==============================] - 12s 12s/step - loss: 0.0705 - accuracy: 1.0000 - val_loss: 1.0308 - val_accuracy: 0.5625\n",
            "Epoch 15/15\n",
            "1/1 [==============================] - 12s 12s/step - loss: 0.0528 - accuracy: 1.0000 - val_loss: 1.0066 - val_accuracy: 0.5938\n"
          ]
        },
        {
          "output_type": "display_data",
          "data": {
            "text/plain": [
              "<Figure size 640x480 with 1 Axes>"
            ],
            "image/png": "[encoded data removed]"
          },
          "metadata": {}
        }
      ]
    }
  ],
  "metadata": {
    "colab": {
      "provenance": [],
      "machine_shape": "hm",
      "gpuType": "A100"
    },
    "kernelspec": {
      "display_name": "Python 3",
      "name": "python3"
    },
    "language_info": {
      "name": "python"
    }
  },
  "nbformat": 4,
  "nbformat_minor": 0
}