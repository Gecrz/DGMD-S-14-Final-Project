{
  "cells": [
    {
      "cell_type": "code",
      "source": [
        "import tensorflow as tf\n",
        "from tensorflow.keras.applications import VGG16\n",
        "from tensorflow.keras.preprocessing.image import ImageDataGenerator\n",
        "from tensorflow.keras.models import Sequential\n",
        "from tensorflow.keras.layers import Dense, Flatten, Dropout\n",
        "from tensorflow.keras.optimizers import Adam\n",
        "from tensorflow.keras.preprocessing.image import ImageDataGenerator\n",
        "from tensorflow.keras.callbacks import EarlyStopping, LearningRateScheduler\n",
        "from functools import partial\n",
        "import matplotlib.pyplot as plt\n",
        "from sklearn.metrics import classification_report, confusion_matrix, roc_auc_score, roc_curve, auc\n",
        "\n",
        "import os\n",
        "import pandas as pd\n",
        "import numpy as np\n",
        "\n",
        "import requests\n",
        "from tqdm import tqdm\n",
        "\n",
        "import tarfile\n",
        "import os\n",
        "import shutil\n",
        "import io"
      ],
      "metadata": {
        "id": "Hti-7wL2_itB"
      },
      "execution_count": 44,
      "outputs": []
    },
    {
      "cell_type": "code",
      "execution_count": 3,
      "metadata": {
        "colab": {
          "base_uri": "https://localhost:8080/"
        },
        "id": "T2nF4TusvEqk",
        "outputId": "4ad2e92b-dbc9-4e37-d7af-a6e39e67c212"
      },
      "outputs": [
        {
          "output_type": "stream",
          "name": "stderr",
          "text": [
            "100%|██████████| 4.27G/4.27G [08:37<00:00, 8.26MB/s]"
          ]
        },
        {
          "output_type": "stream",
          "name": "stdout",
          "text": [
            "File downloaded successfully.\n"
          ]
        },
        {
          "output_type": "stream",
          "name": "stderr",
          "text": [
            "\n"
          ]
        }
      ],
      "source": [
        "#download the data using the below code into your local setup\n",
        "url = 'http://www.inf.ufpr.br/vri/databases/BreaKHis_v1.tar.gz'\n",
        "file_path = 'BreaKHis_v1.tar.gz'\n",
        "\n",
        "response = requests.get(url, stream=True)\n",
        "\n",
        "if response.status_code == 200:\n",
        "\n",
        "\n",
        "  total_size = int(response.headers.get('content-length', 0))\n",
        "  progress_bar = tqdm(total=total_size, unit='B', unit_scale=True)\n",
        "\n",
        "  with open(file_path, 'wb') as file:\n",
        "      for chunk in response.iter_content(chunk_size=1024):\n",
        "          if chunk:\n",
        "              file.write(chunk)\n",
        "              progress_bar.update(len(chunk))\n",
        "\n",
        "  progress_bar.close()\n",
        "  print('File downloaded successfully.')\n",
        "else:\n",
        "\n",
        "  print('Failed to download the file.')\n"
      ]
    },
    {
      "cell_type": "code",
      "execution_count": 4,
      "metadata": {
        "id": "q_sWCdBDpfGw"
      },
      "outputs": [],
      "source": [
        "# get all the 400x png files into a folder\n",
        "\n",
        "# Define the tar file\n",
        "tar_file_path = 'BreaKHis_v1.tar.gz'\n",
        "\n",
        "# Define the directory to store the extracted files\n",
        "output_dir = 'extracted_images_400x'\n",
        "os.makedirs(output_dir, exist_ok=True)\n",
        "\n",
        "# Open the tar file\n",
        "tar = tarfile.open(tar_file_path)\n",
        "\n",
        "# Iterate over each member in the tar file\n",
        "for member in tar.getmembers():\n",
        "    if '400X' in member.name and member.name.endswith('.png'):\n",
        "        # Use extractfile() to get a file-like object for the file data\n",
        "        file_data = tar.extractfile(member)\n",
        "\n",
        "        if file_data is not None:\n",
        "            # Get the base filename (without directories)\n",
        "            base_filename = os.path.basename(member.name)\n",
        "            # Define the target file path in the output_dir\n",
        "            target_path = os.path.join(output_dir, base_filename)\n",
        "\n",
        "            # Write the file data to the new file\n",
        "            with open(target_path, 'wb') as f:\n",
        "                shutil.copyfileobj(file_data, f)\n",
        "\n",
        "# Close the tar file\n",
        "tar.close()\n"
      ]
    },
    {
      "cell_type": "code",
      "execution_count": 5,
      "metadata": {
        "colab": {
          "base_uri": "https://localhost:8080/"
        },
        "id": "8IX3AIu3rOEr",
        "outputId": "5ea4b63d-d662-4a06-9aa8-0d4634e26657"
      },
      "outputs": [
        {
          "output_type": "stream",
          "name": "stdout",
          "text": [
            "SOB_B_A-14-22549AB-400-001.png\n",
            "SOB_B_A-14-22549AB-400-002.png\n",
            "SOB_B_A-14-22549AB-400-003.png\n",
            "SOB_B_A-14-22549AB-400-004.png\n",
            "SOB_B_A-14-22549AB-400-005.png\n",
            "SOB_B_A-14-22549AB-400-006.png\n",
            "SOB_B_A-14-22549AB-400-007.png\n",
            "SOB_B_A-14-22549AB-400-008.png\n",
            "SOB_B_A-14-22549AB-400-009.png\n",
            "SOB_B_A-14-22549AB-400-010.png\n",
            "SOB_B_A-14-22549AB-400-011.png\n",
            "SOB_B_A-14-22549AB-400-012.png\n",
            "SOB_B_A-14-22549AB-400-013.png\n",
            "SOB_B_A-14-22549AB-400-014.png\n",
            "SOB_B_A-14-22549AB-400-015.png\n",
            "SOB_B_A-14-22549AB-400-016.png\n",
            "SOB_B_A-14-22549AB-400-017.png\n",
            "SOB_B_A-14-22549AB-400-018.png\n",
            "SOB_B_A-14-22549AB-400-019.png\n",
            "SOB_B_A-14-22549AB-400-020.png\n"
          ]
        }
      ],
      "source": [
        "!ls extracted_images_400x | head -n 20\n"
      ]
    },
    {
      "cell_type": "code",
      "execution_count": 6,
      "metadata": {
        "colab": {
          "base_uri": "https://localhost:8080/",
          "height": 419
        },
        "id": "C8iopb41n1gE",
        "outputId": "a74b75bd-3b8b-4596-f651-535523cebd07"
      },
      "outputs": [
        {
          "output_type": "execute_result",
          "data": {
            "text/plain": [
              "                            filename type patient_ID\n",
              "0      SOB_B_TA-14-3411F-400-003.png    B      3411F\n",
              "1      SOB_M_DC-14-11520-400-015.png    M      11520\n",
              "2     SOB_B_A-14-22549AB-400-026.png    B    22549AB\n",
              "3      SOB_M_MC-14-18842-400-004.png    M      18842\n",
              "4      SOB_M_MC-14-12773-400-002.png    M      12773\n",
              "...                              ...  ...        ...\n",
              "1815  SOB_M_LC-14-15570C-400-004.png    M     15570C\n",
              "1816  SOB_B_F-14-23222AB-400-009.png    B    23222AB\n",
              "1817    SOB_M_DC-14-2773-400-036.png    M       2773\n",
              "1818   SOB_M_LC-14-12204-400-043.png    M      12204\n",
              "1819   SOB_M_DC-14-16188-400-023.png    M      16188\n",
              "\n",
              "[1820 rows x 3 columns]"
            ],
            "text/html": [
              "\n",
              "\n",
              "  <div id=\"df-fe7b2de8-07e6-4337-8672-ef1232b3a9e1\">\n",
              "    <div class=\"colab-df-container\">\n",
              "      <div>\n",
              "<style scoped>\n",
              "    .dataframe tbody tr th:only-of-type {\n",
              "        vertical-align: middle;\n",
              "    }\n",
              "\n",
              "    .dataframe tbody tr th {\n",
              "        vertical-align: top;\n",
              "    }\n",
              "\n",
              "    .dataframe thead th {\n",
              "        text-align: right;\n",
              "    }\n",
              "</style>\n",
              "<table border=\"1\" class=\"dataframe\">\n",
              "  <thead>\n",
              "    <tr style=\"text-align: right;\">\n",
              "      <th></th>\n",
              "      <th>filename</th>\n",
              "      <th>type</th>\n",
              "      <th>patient_ID</th>\n",
              "    </tr>\n",
              "  </thead>\n",
              "  <tbody>\n",
              "    <tr>\n",
              "      <th>0</th>\n",
              "      <td>SOB_B_TA-14-3411F-400-003.png</td>\n",
              "      <td>B</td>\n",
              "      <td>3411F</td>\n",
              "    </tr>\n",
              "    <tr>\n",
              "      <th>1</th>\n",
              "      <td>SOB_M_DC-14-11520-400-015.png</td>\n",
              "      <td>M</td>\n",
              "      <td>11520</td>\n",
              "    </tr>\n",
              "    <tr>\n",
              "      <th>2</th>\n",
              "      <td>SOB_B_A-14-22549AB-400-026.png</td>\n",
              "      <td>B</td>\n",
              "      <td>22549AB</td>\n",
              "    </tr>\n",
              "    <tr>\n",
              "      <th>3</th>\n",
              "      <td>SOB_M_MC-14-18842-400-004.png</td>\n",
              "      <td>M</td>\n",
              "      <td>18842</td>\n",
              "    </tr>\n",
              "    <tr>\n",
              "      <th>4</th>\n",
              "      <td>SOB_M_MC-14-12773-400-002.png</td>\n",
              "      <td>M</td>\n",
              "      <td>12773</td>\n",
              "    </tr>\n",
              "    <tr>\n",
              "      <th>...</th>\n",
              "      <td>...</td>\n",
              "      <td>...</td>\n",
              "      <td>...</td>\n",
              "    </tr>\n",
              "    <tr>\n",
              "      <th>1815</th>\n",
              "      <td>SOB_M_LC-14-15570C-400-004.png</td>\n",
              "      <td>M</td>\n",
              "      <td>15570C</td>\n",
              "    </tr>\n",
              "    <tr>\n",
              "      <th>1816</th>\n",
              "      <td>SOB_B_F-14-23222AB-400-009.png</td>\n",
              "      <td>B</td>\n",
              "      <td>23222AB</td>\n",
              "    </tr>\n",
              "    <tr>\n",
              "      <th>1817</th>\n",
              "      <td>SOB_M_DC-14-2773-400-036.png</td>\n",
              "      <td>M</td>\n",
              "      <td>2773</td>\n",
              "    </tr>\n",
              "    <tr>\n",
              "      <th>1818</th>\n",
              "      <td>SOB_M_LC-14-12204-400-043.png</td>\n",
              "      <td>M</td>\n",
              "      <td>12204</td>\n",
              "    </tr>\n",
              "    <tr>\n",
              "      <th>1819</th>\n",
              "      <td>SOB_M_DC-14-16188-400-023.png</td>\n",
              "      <td>M</td>\n",
              "      <td>16188</td>\n",
              "    </tr>\n",
              "  </tbody>\n",
              "</table>\n",
              "<p>1820 rows × 3 columns</p>\n",
              "</div>\n",
              "      <button class=\"colab-df-convert\" onclick=\"convertToInteractive('df-fe7b2de8-07e6-4337-8672-ef1232b3a9e1')\"\n",
              "              title=\"Convert this dataframe to an interactive table.\"\n",
              "              style=\"display:none;\">\n",
              "\n",
              "  <svg xmlns=\"http://www.w3.org/2000/svg\" height=\"24px\"viewBox=\"0 0 24 24\"\n",
              "       width=\"24px\">\n",
              "    <path d=\"M0 0h24v24H0V0z\" fill=\"none\"/>\n",
              "    <path d=\"M18.56 5.44l.94 2.06.94-2.06 2.06-.94-2.06-.94-.94-2.06-.94 2.06-2.06.94zm-11 1L8.5 8.5l.94-2.06 2.06-.94-2.06-.94L8.5 2.5l-.94 2.06-2.06.94zm10 10l.94 2.06.94-2.06 2.06-.94-2.06-.94-.94-2.06-.94 2.06-2.06.94z\"/><path d=\"M17.41 7.96l-1.37-1.37c-.4-.4-.92-.59-1.43-.59-.52 0-1.04.2-1.43.59L10.3 9.45l-7.72 7.72c-.78.78-.78 2.05 0 2.83L4 21.41c.39.39.9.59 1.41.59.51 0 1.02-.2 1.41-.59l7.78-7.78 2.81-2.81c.8-.78.8-2.07 0-2.86zM5.41 20L4 18.59l7.72-7.72 1.47 1.35L5.41 20z\"/>\n",
              "  </svg>\n",
              "      </button>\n",
              "\n",
              "\n",
              "\n",
              "    <div id=\"df-31d3d9eb-8f09-4e2c-95b6-f7d6c8f51d88\">\n",
              "      <button class=\"colab-df-quickchart\" onclick=\"quickchart('df-31d3d9eb-8f09-4e2c-95b6-f7d6c8f51d88')\"\n",
              "              title=\"Suggest charts.\"\n",
              "              style=\"display:none;\">\n",
              "\n",
              "<svg xmlns=\"http://www.w3.org/2000/svg\" height=\"24px\"viewBox=\"0 0 24 24\"\n",
              "     width=\"24px\">\n",
              "    <g>\n",
              "        <path d=\"M19 3H5c-1.1 0-2 .9-2 2v14c0 1.1.9 2 2 2h14c1.1 0 2-.9 2-2V5c0-1.1-.9-2-2-2zM9 17H7v-7h2v7zm4 0h-2V7h2v10zm4 0h-2v-4h2v4z\"/>\n",
              "    </g>\n",
              "</svg>\n",
              "      </button>\n",
              "    </div>\n",
              "\n",
              "<style>\n",
              "  .colab-df-quickchart {\n",
              "    background-color: #E8F0FE;\n",
              "    border: none;\n",
              "    border-radius: 50%;\n",
              "    cursor: pointer;\n",
              "    display: none;\n",
              "    fill: #1967D2;\n",
              "    height: 32px;\n",
              "    padding: 0 0 0 0;\n",
              "    width: 32px;\n",
              "  }\n",
              "\n",
              "  .colab-df-quickchart:hover {\n",
              "    background-color: #E2EBFA;\n",
              "    box-shadow: 0px 1px 2px rgba(60, 64, 67, 0.3), 0px 1px 3px 1px rgba(60, 64, 67, 0.15);\n",
              "    fill: #174EA6;\n",
              "  }\n",
              "\n",
              "  [theme=dark] .colab-df-quickchart {\n",
              "    background-color: #3B4455;\n",
              "    fill: #D2E3FC;\n",
              "  }\n",
              "\n",
              "  [theme=dark] .colab-df-quickchart:hover {\n",
              "    background-color: #434B5C;\n",
              "    box-shadow: 0px 1px 3px 1px rgba(0, 0, 0, 0.15);\n",
              "    filter: drop-shadow(0px 1px 2px rgba(0, 0, 0, 0.3));\n",
              "    fill: #FFFFFF;\n",
              "  }\n",
              "</style>\n",
              "\n",
              "    <script>\n",
              "      async function quickchart(key) {\n",
              "        const containerElement = document.querySelector('#' + key);\n",
              "        const charts = await google.colab.kernel.invokeFunction(\n",
              "            'suggestCharts', [key], {});\n",
              "      }\n",
              "    </script>\n",
              "\n",
              "      <script>\n",
              "\n",
              "function displayQuickchartButton(domScope) {\n",
              "  let quickchartButtonEl =\n",
              "    domScope.querySelector('#df-31d3d9eb-8f09-4e2c-95b6-f7d6c8f51d88 button.colab-df-quickchart');\n",
              "  quickchartButtonEl.style.display =\n",
              "    google.colab.kernel.accessAllowed ? 'block' : 'none';\n",
              "}\n",
              "\n",
              "        displayQuickchartButton(document);\n",
              "      </script>\n",
              "      <style>\n",
              "    .colab-df-container {\n",
              "      display:flex;\n",
              "      flex-wrap:wrap;\n",
              "      gap: 12px;\n",
              "    }\n",
              "\n",
              "    .colab-df-convert {\n",
              "      background-color: #E8F0FE;\n",
              "      border: none;\n",
              "      border-radius: 50%;\n",
              "      cursor: pointer;\n",
              "      display: none;\n",
              "      fill: #1967D2;\n",
              "      height: 32px;\n",
              "      padding: 0 0 0 0;\n",
              "      width: 32px;\n",
              "    }\n",
              "\n",
              "    .colab-df-convert:hover {\n",
              "      background-color: #E2EBFA;\n",
              "      box-shadow: 0px 1px 2px rgba(60, 64, 67, 0.3), 0px 1px 3px 1px rgba(60, 64, 67, 0.15);\n",
              "      fill: #174EA6;\n",
              "    }\n",
              "\n",
              "    [theme=dark] .colab-df-convert {\n",
              "      background-color: #3B4455;\n",
              "      fill: #D2E3FC;\n",
              "    }\n",
              "\n",
              "    [theme=dark] .colab-df-convert:hover {\n",
              "      background-color: #434B5C;\n",
              "      box-shadow: 0px 1px 3px 1px rgba(0, 0, 0, 0.15);\n",
              "      filter: drop-shadow(0px 1px 2px rgba(0, 0, 0, 0.3));\n",
              "      fill: #FFFFFF;\n",
              "    }\n",
              "  </style>\n",
              "\n",
              "      <script>\n",
              "        const buttonEl =\n",
              "          document.querySelector('#df-fe7b2de8-07e6-4337-8672-ef1232b3a9e1 button.colab-df-convert');\n",
              "        buttonEl.style.display =\n",
              "          google.colab.kernel.accessAllowed ? 'block' : 'none';\n",
              "\n",
              "        async function convertToInteractive(key) {\n",
              "          const element = document.querySelector('#df-fe7b2de8-07e6-4337-8672-ef1232b3a9e1');\n",
              "          const dataTable =\n",
              "            await google.colab.kernel.invokeFunction('convertToInteractive',\n",
              "                                                     [key], {});\n",
              "          if (!dataTable) return;\n",
              "\n",
              "          const docLinkHtml = 'Like what you see? Visit the ' +\n",
              "            '<a target=\"_blank\" href=https://colab.research.google.com/notebooks/data_table.ipynb>data table notebook</a>'\n",
              "            + ' to learn more about interactive tables.';\n",
              "          element.innerHTML = '';\n",
              "          dataTable['output_type'] = 'display_data';\n",
              "          await google.colab.output.renderOutput(dataTable, element);\n",
              "          const docLink = document.createElement('div');\n",
              "          docLink.innerHTML = docLinkHtml;\n",
              "          element.appendChild(docLink);\n",
              "        }\n",
              "      </script>\n",
              "    </div>\n",
              "  </div>\n"
            ]
          },
          "metadata": {},
          "execution_count": 6
        }
      ],
      "source": [
        "#creating a dataframe that has the patient id, file path, type\n",
        "\n",
        "# Define the directory where the files are stored\n",
        "directory = 'extracted_images_400x'\n",
        "\n",
        "# Get the list of file names\n",
        "filenames = os.listdir(directory)\n",
        "\n",
        "# Create a DataFrame from the file names\n",
        "df = pd.DataFrame(filenames, columns=['filename'])\n",
        "\n",
        "# Extract the type (M or B), patient ID and image ID from the filename\n",
        "df['type'] = df['filename'].str.split('_', expand=True)[1]\n",
        "df['patient_ID'] = df['filename'].str.split('-', expand=True)[2]\n",
        "\n",
        "# Display the DataFrame\n",
        "df\n"
      ]
    },
    {
      "cell_type": "code",
      "execution_count": 7,
      "metadata": {
        "id": "uEd0hqsSryBf"
      },
      "outputs": [],
      "source": [
        "\n",
        "# Get a list of unique patient IDs for each type\n",
        "malignant_ids = df[df['type'] == 'M']['patient_ID'].unique()\n",
        "benign_ids = df[df['type'] == 'B']['patient_ID'].unique()\n",
        "\n",
        "# Function to split patient IDs into train, validation, and test\n",
        "def split_ids(ids):\n",
        "    np.random.shuffle(ids)\n",
        "    train_size = int(len(ids) * 0.8)\n",
        "    val_size = int(len(ids) * 0.1)\n",
        "    train_ids = ids[:train_size]\n",
        "    val_ids = ids[train_size:train_size + val_size]\n",
        "    test_ids = ids[train_size + val_size:]\n",
        "    return train_ids, val_ids, test_ids\n",
        "\n",
        "# Split patient IDs for each type\n",
        "train_m_ids, val_m_ids, test_m_ids = split_ids(malignant_ids)\n",
        "train_b_ids, val_b_ids, test_b_ids = split_ids(benign_ids)\n",
        "\n",
        "# Concatenate train, validation, and test patient IDs\n",
        "train_patient_ids = np.concatenate([train_m_ids, train_b_ids])\n",
        "val_patient_ids = np.concatenate([val_m_ids, val_b_ids])\n",
        "test_patient_ids = np.concatenate([test_m_ids, test_b_ids])\n",
        "\n",
        "# Get corresponding dataframes\n",
        "train_df = df[df['patient_ID'].isin(train_patient_ids)]\n",
        "val_df = df[df['patient_ID'].isin(val_patient_ids)]\n",
        "test_df = df[df['patient_ID'].isin(test_patient_ids)]\n"
      ]
    },
    {
      "cell_type": "code",
      "execution_count": 8,
      "metadata": {
        "colab": {
          "base_uri": "https://localhost:8080/"
        },
        "id": "o3acTmCIsecB",
        "outputId": "bc53997c-c120-4b34-fd27-29fc89317bce"
      },
      "outputs": [
        {
          "output_type": "stream",
          "name": "stdout",
          "text": [
            "file name is train_df\n",
            "filename 1482\n",
            "type 2\n",
            "patient_ID 64\n",
            "file name is val_df\n",
            "filename 115\n",
            "type 2\n",
            "patient_ID 7\n",
            "file name is test_df\n",
            "filename 223\n",
            "type 2\n",
            "patient_ID 10\n"
          ]
        }
      ],
      "source": [
        "print('file name is', 'train_df')\n",
        "for column in train_df.columns:\n",
        "    print(column, train_df[column].nunique())\n",
        "\n",
        "\n",
        "print('file name is', 'val_df')\n",
        "for column in val_df.columns:\n",
        "    print(column, val_df[column].nunique())\n",
        "\n",
        "\n",
        "print('file name is', 'test_df')\n",
        "for column in test_df.columns:\n",
        "    print(column, test_df[column].nunique())\n"
      ]
    },
    {
      "cell_type": "code",
      "execution_count": 46,
      "metadata": {
        "colab": {
          "base_uri": "https://localhost:8080/"
        },
        "id": "9YDZDTrltyLG",
        "outputId": "d2141dbf-0a7e-40a7-d287-5ca1d8fe15df"
      },
      "outputs": [
        {
          "output_type": "stream",
          "name": "stdout",
          "text": [
            "Found 1482 validated image filenames belonging to 2 classes.\n",
            "Found 115 validated image filenames belonging to 2 classes.\n"
          ]
        }
      ],
      "source": [
        "# Define image size and path\n",
        "img_size = (700, 460)\n",
        "batch_size = 32\n",
        "directory = 'extracted_images_400x'\n",
        "\n",
        "train_datagen = ImageDataGenerator(rescale=1./255, rotation_range=10, width_shift_range=0.1, height_shift_range=0.1)\n",
        "\n",
        "val_datagen = ImageDataGenerator(rescale=1./255)\n",
        "\n",
        "train_generator = train_datagen.flow_from_dataframe(\n",
        "    train_df,\n",
        "    directory=directory,\n",
        "    x_col='filename',\n",
        "    y_col='type',\n",
        "    target_size=img_size,\n",
        "    class_mode='binary',\n",
        "    batch_size=batch_size,\n",
        "    shuffle=True,  # Shuffle the training data\n",
        ")\n",
        "\n",
        "val_generator = val_datagen.flow_from_dataframe(\n",
        "    val_df,\n",
        "    directory=directory,\n",
        "    x_col='filename',\n",
        "    y_col='type',\n",
        "    target_size=img_size,\n",
        "    class_mode='binary',\n",
        "    batch_size=batch_size,\n",
        "    shuffle=False,  # No need to shuffle the validation data\n",
        ")\n",
        "\n"
      ]
    },
    {
      "cell_type": "code",
      "source": [
        "# Define the standard CNN model\n",
        "n_filters = 12  # Base number of convolutional filters"
      ],
      "metadata": {
        "id": "NWaeXAPyvpDH"
      },
      "execution_count": 47,
      "outputs": []
    },
    {
      "cell_type": "code",
      "source": [
        "def make_standard_classifier(n_outputs=1, dropout_rate=0.2):\n",
        "    Conv2D = partial(tf.keras.layers.Conv2D, padding='same', activation='relu')\n",
        "    BatchNormalization = tf.keras.layers.BatchNormalization\n",
        "    Flatten = tf.keras.layers.Flatten\n",
        "    Dense = partial(tf.keras.layers.Dense, activation='relu')\n",
        "\n",
        "    model = tf.keras.Sequential([\n",
        "        Conv2D(filters=1*n_filters, kernel_size=5, strides=2),\n",
        "        BatchNormalization(),\n",
        "        Dropout(dropout_rate),  # Dropout layer here\n",
        "        Conv2D(filters=2*n_filters, kernel_size=5, strides=2),\n",
        "        Conv2D(filters=4*n_filters, kernel_size=3, strides=2),\n",
        "        Dropout(dropout_rate),  # Dropout layer here\n",
        "        Conv2D(filters=8*n_filters, kernel_size=3, strides=2),\n",
        "        Dropout(dropout_rate),  # Dropout layer here\n",
        "        Flatten(),\n",
        "        Dense(512),\n",
        "        Dropout(dropout_rate),  # Dropout layer here\n",
        "        Dense(n_outputs, activation='sigmoid')\n",
        "    ])\n",
        "    return model"
      ],
      "metadata": {
        "id": "-Y-u_1ldvvsr"
      },
      "execution_count": 48,
      "outputs": []
    },
    {
      "cell_type": "code",
      "source": [
        "# Create the standard CNN model with dropout (dropout_rate=0.5)\n",
        "standard_classifier = make_standard_classifier(dropout_rate=0.2)"
      ],
      "metadata": {
        "id": "Yf9F8o1GwhZt"
      },
      "execution_count": 49,
      "outputs": []
    },
    {
      "cell_type": "code",
      "source": [
        "# Compile the model\n",
        "standard_classifier.compile(optimizer='adam', loss='binary_crossentropy', metrics=['accuracy'])"
      ],
      "metadata": {
        "id": "mZXh7OWUfz7C"
      },
      "execution_count": 50,
      "outputs": []
    },
    {
      "cell_type": "code",
      "source": [
        "# Define callbacks\n",
        "early_stop = EarlyStopping(patience=5)\n",
        "def lr_scheduler(epoch, lr):\n",
        "    if epoch < 5:\n",
        "        return lr\n",
        "    else:\n",
        "        return lr * 0.1\n",
        "lr_schedule = LearningRateScheduler(lr_scheduler)\n",
        "\n",
        "# Train the model\n",
        "history=standard_classifier.fit(train_generator, validation_data=val_generator, epochs=15, batch_size = 32, callbacks=[early_stop, lr_schedule])"
      ],
      "metadata": {
        "colab": {
          "base_uri": "https://localhost:8080/"
        },
        "id": "w0QuRvdRf3jO",
        "outputId": "2963b3a9-84e2-427a-fb25-97cafb33714f"
      },
      "execution_count": 51,
      "outputs": [
        {
          "output_type": "stream",
          "name": "stdout",
          "text": [
            "Epoch 1/15\n",
            "47/47 [==============================] - 137s 3s/step - loss: 1.2636 - accuracy: 0.7382 - val_loss: 0.6781 - val_accuracy: 0.6000 - lr: 0.0010\n",
            "Epoch 2/15\n",
            "47/47 [==============================] - 132s 3s/step - loss: 0.4628 - accuracy: 0.8266 - val_loss: 0.6623 - val_accuracy: 0.6000 - lr: 0.0010\n",
            "Epoch 3/15\n",
            "47/47 [==============================] - 133s 3s/step - loss: 0.4581 - accuracy: 0.8151 - val_loss: 0.6801 - val_accuracy: 0.6000 - lr: 0.0010\n",
            "Epoch 4/15\n",
            "47/47 [==============================] - 133s 3s/step - loss: 0.3989 - accuracy: 0.8441 - val_loss: 0.5378 - val_accuracy: 0.6435 - lr: 0.0010\n",
            "Epoch 5/15\n",
            "47/47 [==============================] - 134s 3s/step - loss: 0.3684 - accuracy: 0.8576 - val_loss: 0.7591 - val_accuracy: 0.6000 - lr: 0.0010\n",
            "Epoch 6/15\n",
            "47/47 [==============================] - 133s 3s/step - loss: 0.3355 - accuracy: 0.8650 - val_loss: 0.9406 - val_accuracy: 0.6000 - lr: 1.0000e-04\n",
            "Epoch 7/15\n",
            "47/47 [==============================] - 132s 3s/step - loss: 0.3098 - accuracy: 0.8812 - val_loss: 0.6777 - val_accuracy: 0.6174 - lr: 1.0000e-05\n",
            "Epoch 8/15\n",
            "47/47 [==============================] - 133s 3s/step - loss: 0.3142 - accuracy: 0.8846 - val_loss: 0.5027 - val_accuracy: 0.7217 - lr: 1.0000e-06\n",
            "Epoch 9/15\n",
            "47/47 [==============================] - 132s 3s/step - loss: 0.3166 - accuracy: 0.8738 - val_loss: 0.4212 - val_accuracy: 0.8261 - lr: 1.0000e-07\n",
            "Epoch 10/15\n",
            "47/47 [==============================] - 135s 3s/step - loss: 0.3197 - accuracy: 0.8826 - val_loss: 0.3690 - val_accuracy: 0.9217 - lr: 1.0000e-08\n",
            "Epoch 11/15\n",
            "47/47 [==============================] - 133s 3s/step - loss: 0.3093 - accuracy: 0.8887 - val_loss: 0.3286 - val_accuracy: 0.9478 - lr: 1.0000e-09\n",
            "Epoch 12/15\n",
            "47/47 [==============================] - 134s 3s/step - loss: 0.3141 - accuracy: 0.8779 - val_loss: 0.3003 - val_accuracy: 0.9652 - lr: 1.0000e-10\n",
            "Epoch 13/15\n",
            "47/47 [==============================] - 128s 3s/step - loss: 0.3173 - accuracy: 0.8758 - val_loss: 0.2793 - val_accuracy: 0.9652 - lr: 1.0000e-11\n",
            "Epoch 14/15\n",
            "47/47 [==============================] - 133s 3s/step - loss: 0.3083 - accuracy: 0.8873 - val_loss: 0.2644 - val_accuracy: 0.9652 - lr: 1.0000e-12\n",
            "Epoch 15/15\n",
            "47/47 [==============================] - 132s 3s/step - loss: 0.3032 - accuracy: 0.8819 - val_loss: 0.2538 - val_accuracy: 0.9652 - lr: 1.0000e-13\n"
          ]
        }
      ]
    },
    {
      "cell_type": "code",
      "source": [
        "# Plot training and validation accuracy\n",
        "plt.figure(figsize=(8, 6))\n",
        "plt.plot(history.history['accuracy'], label='Training Accuracy')\n",
        "plt.plot(history.history['val_accuracy'], label='Validation Accuracy')\n",
        "plt.xlabel('Epoch')\n",
        "plt.ylabel('Accuracy')\n",
        "plt.title('Training and Validation Accuracy')\n",
        "plt.legend()\n",
        "plt.show()\n",
        "\n",
        "# Plot training and validation loss\n",
        "plt.figure(figsize=(8, 6))\n",
        "plt.plot(history.history['loss'], label='Training Loss')\n",
        "plt.plot(history.history['val_loss'], label='Validation Loss')\n",
        "plt.xlabel('Epoch')\n",
        "plt.ylabel('Loss')\n",
        "plt.title('Training and Validation Loss')\n",
        "plt.legend()\n",
        "plt.show()\n"
      ],
      "metadata": {
        "colab": {
          "base_uri": "https://localhost:8080/",
          "height": 1000
        },
        "id": "KHCg5bbj9fVd",
        "outputId": "2ae311c3-9dc8-4a32-dd8c-56ea6256fb8f"
      },
      "execution_count": 52,
      "outputs": [
        {
          "output_type": "display_data",
          "data": {
            "text/plain": [
              "<Figure size 800x600 with 1 Axes>"
            ],
            "image/png": "[encoded data removed]"
          },
          "metadata": {}
        },
        {
          "output_type": "display_data",
          "data": {
            "text/plain": [
              "<Figure size 800x600 with 1 Axes>"
            ],
            "image/png": "[encoded data removed]"
          },
          "metadata": {}
        }
      ]
    },
    {
      "cell_type": "code",
      "source": [
        "# Create a test data generator\n",
        "test_datagen = ImageDataGenerator(rescale=1./255)\n",
        "\n",
        "test_generator = test_datagen.flow_from_dataframe(\n",
        "    test_df,\n",
        "    directory=directory,\n",
        "    x_col='filename',\n",
        "    y_col='type',\n",
        "    target_size=img_size,\n",
        "    class_mode='binary',\n",
        "    batch_size=batch_size,\n",
        "    shuffle=False  # Set shuffle to False to maintain order\n",
        ")\n",
        "\n",
        "\n"
      ],
      "metadata": {
        "colab": {
          "base_uri": "https://localhost:8080/"
        },
        "id": "sBWXT85514Yg",
        "outputId": "d63128cf-09cd-49b4-b306-bba65d0d03a5"
      },
      "execution_count": 53,
      "outputs": [
        {
          "output_type": "stream",
          "name": "stdout",
          "text": [
            "Found 223 validated image filenames belonging to 2 classes.\n"
          ]
        }
      ]
    },
    {
      "cell_type": "code",
      "source": [
        "# Make predictions on the test data\n",
        "y_pred_prob = standard_classifier.predict(test_generator)\n",
        "y_pred = np.round(y_pred_prob).flatten()\n",
        "\n",
        "# Get true labels from the test data\n",
        "y_true = test_generator.labels"
      ],
      "metadata": {
        "colab": {
          "base_uri": "https://localhost:8080/"
        },
        "id": "ciwiZzXx4v98",
        "outputId": "8ea5f022-6979-4b71-fce8-224c1f614e72"
      },
      "execution_count": 54,
      "outputs": [
        {
          "output_type": "stream",
          "name": "stdout",
          "text": [
            "7/7 [==============================] - 5s 745ms/step\n"
          ]
        }
      ]
    },
    {
      "cell_type": "code",
      "source": [
        "# Compute classification report\n",
        "classification_rep = classification_report(y_true, y_pred)\n",
        "print(\"Classification Report:\")\n",
        "print(classification_rep)"
      ],
      "metadata": {
        "colab": {
          "base_uri": "https://localhost:8080/"
        },
        "id": "8H1YKGXt4zzk",
        "outputId": "ac0bbf0a-cc35-44b6-ca5a-6fdeb195b1c8"
      },
      "execution_count": 55,
      "outputs": [
        {
          "output_type": "stream",
          "name": "stdout",
          "text": [
            "Classification Report:\n",
            "              precision    recall  f1-score   support\n",
            "\n",
            "           0       0.96      0.69      0.80       103\n",
            "           1       0.79      0.97      0.87       120\n",
            "\n",
            "    accuracy                           0.84       223\n",
            "   macro avg       0.87      0.83      0.84       223\n",
            "weighted avg       0.87      0.84      0.84       223\n",
            "\n"
          ]
        }
      ]
    },
    {
      "cell_type": "code",
      "source": [
        "# Compute confusion matrix\n",
        "confusion_mtx = confusion_matrix(y_true, y_pred)\n",
        "print(\"Confusion Matrix:\")\n",
        "print(confusion_mtx)"
      ],
      "metadata": {
        "colab": {
          "base_uri": "https://localhost:8080/"
        },
        "id": "hHAfb7Rm4521",
        "outputId": "a4d0d6a3-d88a-4edd-ff48-8676055bd2e8"
      },
      "execution_count": 57,
      "outputs": [
        {
          "output_type": "stream",
          "name": "stdout",
          "text": [
            "Confusion Matrix:\n",
            "[[ 71  32]\n",
            " [  3 117]]\n"
          ]
        }
      ]
    },
    {
      "cell_type": "code",
      "source": [
        "# Compute ROC-AUC score\n",
        "roc_auc = roc_auc_score(y_true, y_pred_prob)\n",
        "print(f\"ROC-AUC Score: {roc_auc:.4f}\")"
      ],
      "metadata": {
        "colab": {
          "base_uri": "https://localhost:8080/"
        },
        "id": "0ZBrx3KO49Ig",
        "outputId": "e37e28e3-151d-4274-e821-98904e8ce123"
      },
      "execution_count": 58,
      "outputs": [
        {
          "output_type": "stream",
          "name": "stdout",
          "text": [
            "ROC-AUC Score: 0.9312\n"
          ]
        }
      ]
    },
    {
      "cell_type": "code",
      "source": [
        "# Compute ROC curve\n",
        "fpr, tpr, thresholds = roc_curve(y_true, y_pred_prob)\n",
        "roc_auc = auc(fpr, tpr)\n",
        "\n",
        "# Plot ROC curve\n",
        "plt.figure(figsize=(8, 6))\n",
        "plt.plot(fpr, tpr, color='blue', lw=2, label=f'ROC curve (AUC = {roc_auc:.2f})')\n",
        "plt.plot([0, 1], [0, 1], color='gray', lw=1, linestyle='--')\n",
        "plt.xlim([0.0, 1.0])\n",
        "plt.ylim([0.0, 1.05])\n",
        "plt.xlabel('False Positive Rate (FPR)')\n",
        "plt.ylabel('True Positive Rate (TPR)')\n",
        "plt.title('Receiver Operating Characteristic (ROC) Curve')\n",
        "plt.legend(loc='lower right')\n",
        "plt.show()"
      ],
      "metadata": {
        "colab": {
          "base_uri": "https://localhost:8080/",
          "height": 564
        },
        "id": "rFzUORqp_Ppz",
        "outputId": "18a75f69-7c65-4d43-d33e-81a64f301177"
      },
      "execution_count": 59,
      "outputs": [
        {
          "output_type": "display_data",
          "data": {
            "text/plain": [
              "<Figure size 800x600 with 1 Axes>"
            ],
            "image/png": "[encoded data removed]"
          },
          "metadata": {}
        }
      ]
    },
    {
      "cell_type": "code",
      "source": [
        "from google.colab import drive\n",
        "drive.mount('/content/gdrive')\n"
      ],
      "metadata": {
        "colab": {
          "base_uri": "https://localhost:8080/"
        },
        "id": "F97lQ1UaJvZ6",
        "outputId": "ed481f75-812f-4384-a872-0865fb8b54e2"
      },
      "execution_count": 60,
      "outputs": [
        {
          "output_type": "stream",
          "name": "stdout",
          "text": [
            "Mounted at /content/gdrive\n"
          ]
        }
      ]
    },
    {
      "cell_type": "code",
      "source": [
        "standard_classifier.save('/content/gdrive/My Drive/trained_model.h5') # Save the model on Google Drive for future predictions."
      ],
      "metadata": {
        "id": "uhGrmiiEJ81-"
      },
      "execution_count": 62,
      "outputs": []
    },
    {
      "cell_type": "code",
      "source": [
        "from tensorflow.keras.models import load_model\n",
        "from google.colab import drive\n",
        "\n",
        "# Mount Google Drive\n",
        "# drive.mount('/content/gdrive') Uncomment this line to load the model\n",
        "\n",
        "# Load the model\n",
        "# loaded_model = load_model('/content/gdrive/My Drive/trained_model.h5') Uncomment this line to load the model\n"
      ],
      "metadata": {
        "id": "l_HEjnINMXNb"
      },
      "execution_count": null,
      "outputs": []
    }
  ],
  "metadata": {
    "colab": {
      "provenance": [],
      "gpuType": "T4"
    },
    "kernelspec": {
      "display_name": "Python 3",
      "name": "python3"
    },
    "language_info": {
      "name": "python"
    },
    "accelerator": "GPU"
  },
  "nbformat": 4,
  "nbformat_minor": 0
}